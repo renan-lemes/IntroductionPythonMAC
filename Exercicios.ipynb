{
 "cells": [
  {
   "cell_type": "markdown",
   "metadata": {},
   "source": [
    "# Exercício 1\n",
    "* Aprendendo sobre inteiro faça um código que some duas entradas inteiras do usuário  exiba a soma na tela. e repita para menos.\n",
    "* Repita o mesmo para números float. \n",
    "* Apendendo sobre string, faça duas strings e \"some\" elas. \n",
    "* Faça o mesmo porem diminuindo, e veja o que acontece.\n",
    "* Faça um código que que pegue uma string e multiplique por um número inteiro e veja o que acontece."
   ]
  },
  {
   "cell_type": "markdown",
   "metadata": {},
   "source": [
    "# Exercício 2\n",
    "Escolha uma tabuada ao seu critério e programe ela. \n",
    "* Depois que aprender o for faça utilizando ele para a taboada do 1 a 10."
   ]
  },
  {
   "cell_type": "markdown",
   "metadata": {},
   "source": [
    "# Exercício 3\n",
    "Faça um código em que o usuário entre com um valor e retorne se é par ou impar."
   ]
  },
  {
   "cell_type": "markdown",
   "metadata": {},
   "source": [
    "# Exercício 4 \n",
    "Defina uma função em que a pessoa entre com alguma palavra e soletre apenas as vogais. e depois para consoantes."
   ]
  },
  {
   "cell_type": "markdown",
   "metadata": {},
   "source": [
    "# Exercício 5\n",
    "Dada as P1, P2 e frequências dos alunos construa uma função que tenha como parametro nome valor da  P1  valor da P2 e frequencia e que calcule a média de cada aluno e verifique se aluno passou ou reprovou. \n",
    "$$Exemplo: \\\\$$\n",
    "$$\\begin{bmatrix}\n",
    " Nome & P1 & P2 & Frequencia \\\\\n",
    " Julia & 6.7 & 7.8 &  0.78 \\\\\n",
    " Maycon & 8.8 & 8 & 0.8 \\\\\n",
    " Alvaro & 4.5 & 9.4 & 0.77 \\\\\n",
    "\n",
    "\\end{bmatrix} = \n",
    "\\begin{bmatrix}\n",
    " Media & Aprovado & Frequencia\\\\\n",
    " T1 & S1 & F1\\\\\n",
    " T2 & S2 & F2\\\\ \n",
    " T3 & S3 & F3\\\\\n",
    "\n",
    "\\end{bmatrix}\n",
    "$$\n",
    "\n"
   ]
  },
  {
   "cell_type": "markdown",
   "metadata": {},
   "source": [
    "# Exercício 6\n",
    "Usando recursividade, contrua uma função chamada de fac em que ela retorne o fatorial de um numero inteiro."
   ]
  },
  {
   "cell_type": "markdown",
   "metadata": {},
   "source": [
    "# Exercício 7\n",
    "A função Arckerman A(m, n) é definida como:\n",
    "$$  \n",
    " A(m, n) = \\begin{cases}\n",
    " n+1 & \\text{ se m = 0 } \\\\ \n",
    " A(m-1,1)) & \\text{ se $m > 0$ e $n = 0$} \\\\\n",
    " A(m-1, A(m, n-1)) & \\text{se $n > 0$ e $m > 0$}\n",
    "\\end{cases}$$\n",
    "Use a função com $A(3, 4)$ cujo o resultado deve ser 125."
   ]
  },
  {
   "cell_type": "markdown",
   "metadata": {},
   "source": [
    "# Exercício 8\n",
    "Na matemática, a fórmula de Leibniz para pi, também é conhecida como Gottfried Wihelm e estabelece que :\n",
    "$$1 - \\frac{1}{3} + \\frac{1}{5} - \\frac{1}{7} + \\frac{1}{9} - ... = \\frac{\\pi}{4}$$\n",
    "Assim a série é definida como:\n",
    "$$ \\sum_{n = 0}^{\\infty} \\frac{(-1)^{n}}{2n + 1} = \\frac{\\pi}{4}$$\n",
    "Utilizando a série construa um código para poder determinar pi.\n",
    "Para verificar se está correto pode se usar a função da bliblioteca math.pi ."
   ]
  },
  {
   "cell_type": "markdown",
   "metadata": {},
   "source": [
    "# Exercício 9\n",
    "Utilizando o definição de fatorial que fez no exercício 6 faça a identidade de euler que é definida como:\n",
    "$$e^x = \\sum_{n = 0}^{\\infty} \\frac{x^n}{n!}$$"
   ]
  },
  {
   "cell_type": "markdown",
   "metadata": {},
   "source": [
    "# Exercício 10\n",
    "A sucessão de Fibonacci, uma sequêcia de números inteiros na qual cada termo subsequente corresponde como à soma dos dois anteriores então definimos como: \n",
    "$$F_n = F_{n-1} + F_{n-2}$$\n",
    "construa um código para a sequência de Fibonacci."
   ]
  },
  {
   "cell_type": "markdown",
   "metadata": {},
   "source": [
    "# Fim \n",
    "\n",
    "* Continuidade do curso ...\n",
    "* Estudar o arquivo Operadores.\n",
    "* listas\n",
    "* dict\n",
    "* numpy operações com arrays\n",
    "* etc ..."
   ]
  },
  {
   "cell_type": "markdown",
   "metadata": {},
   "source": [
    "-----------------------"
   ]
  },
  {
   "cell_type": "markdown",
   "metadata": {},
   "source": [
    "# Exercício 11\n",
    "Uma cifra de César é uma forma fraca de criptografica que implica em rotacionar cada letra por um número fixo de lugares. Rotacionar uma letra significa desloca-lo pelo alfabeto.\n",
    "Portanto rotacionar a letra \"A\" por 3 é \"D\" e \"Z\" rotacionar por 1 é \"A\"\n",
    "* Escreva um código que receba uma string e um número inteiro como parametros, que retorne uma nova string rotacionada.\n",
    "* Obs use a função ord('a') que converte em um inteiro a string inserida."
   ]
  }
 ],
 "metadata": {
  "kernelspec": {
   "display_name": "Python 3.9.12 ('base')",
   "language": "python",
   "name": "python3"
  },
  "language_info": {
   "codemirror_mode": {
    "name": "ipython",
    "version": 3
   },
   "file_extension": ".py",
   "mimetype": "text/x-python",
   "name": "python",
   "nbconvert_exporter": "python",
   "pygments_lexer": "ipython3",
   "version": "3.9.12"
  },
  "orig_nbformat": 4,
  "vscode": {
   "interpreter": {
    "hash": "df5f555708faac095fd61a93badfd9c2b6417959927c12eebb577d7e9a5f2ecf"
   }
  }
 },
 "nbformat": 4,
 "nbformat_minor": 2
}
