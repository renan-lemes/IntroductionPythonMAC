{
 "cells": [
  {
   "cell_type": "markdown",
   "metadata": {},
   "source": [
    "# Exercício 1\n",
    "O volume de uma esfera com raio r é $\\frac{4 \\pi  }{3} \\cdot r^3$, qual é o volume de uma esfera com raio 5?"
   ]
  },
  {
   "cell_type": "markdown",
   "metadata": {},
   "source": [
    "# Exercício 2\n",
    "Escolha uma tabuada a seu criterio e programe ela."
   ]
  },
  {
   "cell_type": "markdown",
   "metadata": {},
   "source": [
    "# Exercício 3\n",
    "Dada as P1, P2 e frequências dos alunos construa uma função que tenha como parametro nome valor da  P1  valor da P2 e frequencia e que calcule a média de cada aluno e verifique se aluno passou ou reprovou. \n",
    "$$Exemplo: \\\\$$\n",
    "$$\\begin{bmatrix}\n",
    " Nome & P1 & P2 & Frequencia \\\\\n",
    " Julia & 6.7 & 7.8 &  0.78 \\\\\n",
    " Maycon & 8.8 & 8 & 0.8 \\\\\n",
    " Alvaro & 4.5 & 9.4 & 0.77 \\\\\n",
    "\n",
    "\\end{bmatrix} = \n",
    "\\begin{bmatrix}\n",
    " Media & Aprovado\\\\\n",
    " T1 & S1\\\\\n",
    " T2 & S2\\\\ \n",
    " T3 & S3\\\\\n",
    "\n",
    "\\end{bmatrix}\n",
    "$$\n",
    "\n"
   ]
  },
  {
   "cell_type": "markdown",
   "metadata": {},
   "source": [
    "# Exercício 4\n",
    "Usando recursividade, contrua uma função chamada de fac em que ela retorne o fatorial de um numero inteiro. \\\n",
    "Para veriticar se está correto use o math.factorial para comparar o resultado."
   ]
  },
  {
   "cell_type": "markdown",
   "metadata": {},
   "source": [
    "# Exercício 5\n",
    "Na matemática, a fórmula de Leibniz para pi, também é conhecida como Gottfried Wihelm e estabelece que :\n",
    "$$1 - \\frac{1}{3} + \\frac{1}{5} - \\frac{1}{7} + \\frac{1}{9} - ... = \\frac{\\pi}{4}$$\n",
    "Assim a série é definida como:\n",
    "$$ \\sum_{n = 0}^{\\infty} \\frac{(-1)^{n}}{2n + 1} = \\frac{\\pi}{4}$$\n",
    "Utilizando a série construa um código para poder determinar pi.\n",
    "Para verificar se está correto pode se usar a função da bliblioteca math.pi ."
   ]
  },
  {
   "cell_type": "markdown",
   "metadata": {},
   "source": [
    "# Exercício 6"
   ]
  },
  {
   "cell_type": "markdown",
   "metadata": {},
   "source": [
    "# Exercício 7"
   ]
  }
 ],
 "metadata": {
  "kernelspec": {
   "display_name": "Python 3.9.12 ('base')",
   "language": "python",
   "name": "python3"
  },
  "language_info": {
   "name": "python",
   "version": "3.9.12"
  },
  "orig_nbformat": 4,
  "vscode": {
   "interpreter": {
    "hash": "df5f555708faac095fd61a93badfd9c2b6417959927c12eebb577d7e9a5f2ecf"
   }
  }
 },
 "nbformat": 4,
 "nbformat_minor": 2
}
