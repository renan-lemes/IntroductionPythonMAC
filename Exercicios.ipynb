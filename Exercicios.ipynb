{
 "cells": [
  {
   "cell_type": "markdown",
   "metadata": {},
   "source": [
    "# Exercício 1\n",
    "Utilizando o turtle faço o desenho de um circulo e um quadrado."
   ]
  },
  {
   "cell_type": "markdown",
   "metadata": {},
   "source": [
    "# Exercício 2\n",
    "Usando recursividade contrua uma função chamada de fac em que ela retorne o fatorial de um numero inteiro. \\\n",
    "Para veriticar se etá correto use o math.factorial para comparar o resultado."
   ]
  },
  {
   "cell_type": "markdown",
   "metadata": {},
   "source": [
    "# Exercício 3\n",
    "Na matemática, a formula de Leibniz para pi, também é conhecida como Gottfried Wihelm e estabelece que :\n",
    "$$1 - \\frac{1}{3} + \\frac{1}{5} - \\frac{1}{7} + \\frac{1}{9} - ... = \\frac{\\pi}{4}$$\n",
    "Assim a série é definida como:\n",
    "$$ \\sum_{n = 0}^{\\infty} \\frac{(-1)^{n}}{2n + 1} = \\frac{\\pi}{4}$$\n",
    "Utilizando a série construa um código para poder determinar pi.\n",
    "Para verificar se está correto pode se usar a função da bliblioteca math.pi ."
   ]
  },
  {
   "cell_type": "markdown",
   "metadata": {},
   "source": [
    "# Exercício 4"
   ]
  },
  {
   "cell_type": "markdown",
   "metadata": {},
   "source": [
    "# Exercício 5"
   ]
  }
 ],
 "metadata": {
  "kernelspec": {
   "display_name": "Python 3.9.12 ('base')",
   "language": "python",
   "name": "python3"
  },
  "language_info": {
   "name": "python",
   "version": "3.9.12"
  },
  "orig_nbformat": 4,
  "vscode": {
   "interpreter": {
    "hash": "df5f555708faac095fd61a93badfd9c2b6417959927c12eebb577d7e9a5f2ecf"
   }
  }
 },
 "nbformat": 4,
 "nbformat_minor": 2
}
